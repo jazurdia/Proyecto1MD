{
 "cells": [
  {
   "cell_type": "markdown",
   "metadata": {},
   "source": [
    "# 1. Variable Objetivo\n",
    "Para este proyecto se decidió identificar, comprender y relacionar los factores claves que llevan a las personas a cometer suicidio. Por lo que, la variable de respuesta elegida es la probabilidad de suicidio, de forma que podamos identificar aquellos grupos de alto o bajo riesgo de cometer suicidio, en base a los factores influyentes."
   ]
  },
  {
   "cell_type": "code",
   "execution_count": 19,
   "metadata": {},
   "outputs": [],
   "source": [
    "# Importar las bibliotecas necesarias\n",
    "import pandas as pd\n",
    "import numpy as np\n",
    "import matplotlib.pyplot as plt\n",
    "from imblearn.over_sampling import SMOTE"
   ]
  },
  {
   "cell_type": "code",
   "execution_count": 20,
   "metadata": {},
   "outputs": [
    {
     "data": {
      "text/html": [
       "<div>\n",
       "<style scoped>\n",
       "    .dataframe tbody tr th:only-of-type {\n",
       "        vertical-align: middle;\n",
       "    }\n",
       "\n",
       "    .dataframe tbody tr th {\n",
       "        vertical-align: top;\n",
       "    }\n",
       "\n",
       "    .dataframe thead th {\n",
       "        text-align: right;\n",
       "    }\n",
       "</style>\n",
       "<table border=\"1\" class=\"dataframe\">\n",
       "  <thead>\n",
       "    <tr style=\"text-align: right;\">\n",
       "      <th></th>\n",
       "      <th>year</th>\n",
       "      <th>suicides_no</th>\n",
       "      <th>population</th>\n",
       "      <th>suicides/100k pop</th>\n",
       "      <th>gdp_for_year</th>\n",
       "      <th>gdp_per_capita</th>\n",
       "      <th>age_15-24</th>\n",
       "      <th>age_25-34</th>\n",
       "      <th>age_35-54</th>\n",
       "      <th>age_5-14</th>\n",
       "      <th>...</th>\n",
       "      <th>country_Thailand</th>\n",
       "      <th>country_Trinidad and Tobago</th>\n",
       "      <th>country_Turkey</th>\n",
       "      <th>country_Turkmenistan</th>\n",
       "      <th>country_Ukraine</th>\n",
       "      <th>country_United Arab Emirates</th>\n",
       "      <th>country_United Kingdom</th>\n",
       "      <th>country_United States</th>\n",
       "      <th>country_Uruguay</th>\n",
       "      <th>country_Uzbekistan</th>\n",
       "    </tr>\n",
       "  </thead>\n",
       "  <tbody>\n",
       "    <tr>\n",
       "      <th>0</th>\n",
       "      <td>1987</td>\n",
       "      <td>21</td>\n",
       "      <td>312900</td>\n",
       "      <td>6.71</td>\n",
       "      <td>2.156625e+09</td>\n",
       "      <td>796.0</td>\n",
       "      <td>True</td>\n",
       "      <td>False</td>\n",
       "      <td>False</td>\n",
       "      <td>False</td>\n",
       "      <td>...</td>\n",
       "      <td>False</td>\n",
       "      <td>False</td>\n",
       "      <td>False</td>\n",
       "      <td>False</td>\n",
       "      <td>False</td>\n",
       "      <td>False</td>\n",
       "      <td>False</td>\n",
       "      <td>False</td>\n",
       "      <td>False</td>\n",
       "      <td>False</td>\n",
       "    </tr>\n",
       "    <tr>\n",
       "      <th>1</th>\n",
       "      <td>1987</td>\n",
       "      <td>16</td>\n",
       "      <td>308000</td>\n",
       "      <td>5.19</td>\n",
       "      <td>2.156625e+09</td>\n",
       "      <td>796.0</td>\n",
       "      <td>False</td>\n",
       "      <td>False</td>\n",
       "      <td>True</td>\n",
       "      <td>False</td>\n",
       "      <td>...</td>\n",
       "      <td>False</td>\n",
       "      <td>False</td>\n",
       "      <td>False</td>\n",
       "      <td>False</td>\n",
       "      <td>False</td>\n",
       "      <td>False</td>\n",
       "      <td>False</td>\n",
       "      <td>False</td>\n",
       "      <td>False</td>\n",
       "      <td>False</td>\n",
       "    </tr>\n",
       "    <tr>\n",
       "      <th>2</th>\n",
       "      <td>1987</td>\n",
       "      <td>14</td>\n",
       "      <td>289700</td>\n",
       "      <td>4.83</td>\n",
       "      <td>2.156625e+09</td>\n",
       "      <td>796.0</td>\n",
       "      <td>True</td>\n",
       "      <td>False</td>\n",
       "      <td>False</td>\n",
       "      <td>False</td>\n",
       "      <td>...</td>\n",
       "      <td>False</td>\n",
       "      <td>False</td>\n",
       "      <td>False</td>\n",
       "      <td>False</td>\n",
       "      <td>False</td>\n",
       "      <td>False</td>\n",
       "      <td>False</td>\n",
       "      <td>False</td>\n",
       "      <td>False</td>\n",
       "      <td>False</td>\n",
       "    </tr>\n",
       "    <tr>\n",
       "      <th>3</th>\n",
       "      <td>1987</td>\n",
       "      <td>1</td>\n",
       "      <td>21800</td>\n",
       "      <td>4.59</td>\n",
       "      <td>2.156625e+09</td>\n",
       "      <td>796.0</td>\n",
       "      <td>False</td>\n",
       "      <td>False</td>\n",
       "      <td>False</td>\n",
       "      <td>False</td>\n",
       "      <td>...</td>\n",
       "      <td>False</td>\n",
       "      <td>False</td>\n",
       "      <td>False</td>\n",
       "      <td>False</td>\n",
       "      <td>False</td>\n",
       "      <td>False</td>\n",
       "      <td>False</td>\n",
       "      <td>False</td>\n",
       "      <td>False</td>\n",
       "      <td>False</td>\n",
       "    </tr>\n",
       "    <tr>\n",
       "      <th>4</th>\n",
       "      <td>1987</td>\n",
       "      <td>9</td>\n",
       "      <td>274300</td>\n",
       "      <td>3.28</td>\n",
       "      <td>2.156625e+09</td>\n",
       "      <td>796.0</td>\n",
       "      <td>False</td>\n",
       "      <td>True</td>\n",
       "      <td>False</td>\n",
       "      <td>False</td>\n",
       "      <td>...</td>\n",
       "      <td>False</td>\n",
       "      <td>False</td>\n",
       "      <td>False</td>\n",
       "      <td>False</td>\n",
       "      <td>False</td>\n",
       "      <td>False</td>\n",
       "      <td>False</td>\n",
       "      <td>False</td>\n",
       "      <td>False</td>\n",
       "      <td>False</td>\n",
       "    </tr>\n",
       "  </tbody>\n",
       "</table>\n",
       "<p>5 rows × 120 columns</p>\n",
       "</div>"
      ],
      "text/plain": [
       "   year  suicides_no  population  suicides/100k pop  gdp_for_year  \\\n",
       "0  1987           21      312900               6.71  2.156625e+09   \n",
       "1  1987           16      308000               5.19  2.156625e+09   \n",
       "2  1987           14      289700               4.83  2.156625e+09   \n",
       "3  1987            1       21800               4.59  2.156625e+09   \n",
       "4  1987            9      274300               3.28  2.156625e+09   \n",
       "\n",
       "   gdp_per_capita  age_15-24  age_25-34  age_35-54  age_5-14  ...  \\\n",
       "0           796.0       True      False      False     False  ...   \n",
       "1           796.0      False      False       True     False  ...   \n",
       "2           796.0       True      False      False     False  ...   \n",
       "3           796.0      False      False      False     False  ...   \n",
       "4           796.0      False       True      False     False  ...   \n",
       "\n",
       "   country_Thailand  country_Trinidad and Tobago  country_Turkey  \\\n",
       "0             False                        False           False   \n",
       "1             False                        False           False   \n",
       "2             False                        False           False   \n",
       "3             False                        False           False   \n",
       "4             False                        False           False   \n",
       "\n",
       "   country_Turkmenistan  country_Ukraine  country_United Arab Emirates  \\\n",
       "0                 False            False                         False   \n",
       "1                 False            False                         False   \n",
       "2                 False            False                         False   \n",
       "3                 False            False                         False   \n",
       "4                 False            False                         False   \n",
       "\n",
       "   country_United Kingdom  country_United States  country_Uruguay  \\\n",
       "0                   False                  False            False   \n",
       "1                   False                  False            False   \n",
       "2                   False                  False            False   \n",
       "3                   False                  False            False   \n",
       "4                   False                  False            False   \n",
       "\n",
       "   country_Uzbekistan  \n",
       "0               False  \n",
       "1               False  \n",
       "2               False  \n",
       "3               False  \n",
       "4               False  \n",
       "\n",
       "[5 rows x 120 columns]"
      ]
     },
     "execution_count": 20,
     "metadata": {},
     "output_type": "execute_result"
    }
   ],
   "source": [
    "original_data = pd.read_csv('csv_files/datosLimpios.csv')\n",
    "original_data.head()"
   ]
  },
  {
   "cell_type": "code",
   "execution_count": 21,
   "metadata": {},
   "outputs": [],
   "source": [
    "# Separar las características y la variable objetivo\n",
    "X = original_data.drop('suicides/100k pop', axis=1)\n",
    "y = original_data['suicides/100k pop']"
   ]
  },
  {
   "cell_type": "markdown",
   "metadata": {},
   "source": [
    "# 2. Separación de Datos\n",
    "\n",
    "Explique el método que siguió para obtener los conjuntos de entrenamiento y prueba, el porcentaje de datos que hay en cada uno y si se encuentran balanceados o no, en caso de que la variable respuesta sea categórica. Sí es cuantitativa analice los atípicos"
   ]
  },
  {
   "cell_type": "markdown",
   "metadata": {},
   "source": [
    "## Preparación de la variable objetivo\n",
    "\n",
    "Antes de proceder con la separación de los datos en conjuntos de entrenamiento y prueba, se llevó a cabo la transformación de la variable objetivo. Originalmente, la variable objetivo era continua, pero para los fines de este proyecto, se requería clasificar los factores que influyen en la probabilidad de un individuo de cometer suicidio. Por ello, se decidió agrupar la variable objetivo en cinco categorías:\n",
    "\n",
    "- **Grupo 1:** Representa un 20% de probabilidad de cometer suicidio.\n",
    "- **Grupo 2:** Representa un 40% de probabilidad de cometer suicidio.\n",
    "- **Grupo 3:** Representa un 60% de probabilidad de cometer suicidio.\n",
    "- **Grupo 4:** Representa un 80% de probabilidad de cometer suicidio.\n",
    "- **Grupo 5:** Representa un 100% de probabilidad de cometer suicidio.\n",
    "\n",
    "Cada grupo corresponde a un intervalo del 20% acumulable, utilizando el valor mínimo como cota inferior y el máximo como cota superior.\n",
    "\n",
    "## Desbalance de los datos\n",
    "\n",
    "Tras la categorización, se identificó un desbalance significativo entre los grupos. En particular, el grupo 1 contenía 26,154 filas, mientras que el grupo 5 sólo contaba con 5 filas.\n",
    "\n",
    "## Generación de datos balanceados\n",
    "\n",
    "Para abordar este desbalance, se aplicó la técnica de sobresampling usando la librería SMOTE (Synthetic Minority Over-sampling Technique). Se utilizó SMOTE con 4 estimadores para generar datos sintéticos y así equilibrar la cantidad de instancias en cada grupo.\n",
    "\n",
    "## Resultados del balanceo\n",
    "\n",
    "Después de aplicar SMOTE, se obtuvo una distribución equilibrada de los datos, con 26,154 filas en cada grupo. Estos datos balanceados se guardaron en un archivo CSV denominado `datosBalanceados.csv`.\n",
    "\n",
    "Para la separación de los conjuntos para pruebas y entrenamiento se utilizó la librería de `sklearn` con un balance de 80%-20%, siendo entrenamiento y pruebas respectivamente."
   ]
  },
  {
   "cell_type": "code",
   "execution_count": 22,
   "metadata": {},
   "outputs": [],
   "source": [
    "# Definir los intervalos y etiquetas para categorizar la variable objetivo\n",
    "bins = np.linspace(0, 224.97, 6)\n",
    "labels = [1, 2, 3, 4, 5]\n",
    "\n",
    "# Crear una copia de la variable objetivo categorizada\n",
    "y_binned = pd.cut(y, bins, labels=labels, include_lowest=True)"
   ]
  },
  {
   "cell_type": "code",
   "execution_count": 23,
   "metadata": {},
   "outputs": [
    {
     "data": {
      "text/plain": [
       "suicides/100k pop\n",
       "1    26154\n",
       "2     1365\n",
       "3      267\n",
       "4       29\n",
       "5        5\n",
       "Name: count, dtype: int64"
      ]
     },
     "execution_count": 23,
     "metadata": {},
     "output_type": "execute_result"
    }
   ],
   "source": [
    "# quiero ver cuantos datos hay en cada categoría. Es decir, cuantas x para cada y. \n",
    "y_binned.value_counts()"
   ]
  },
  {
   "cell_type": "code",
   "execution_count": 24,
   "metadata": {},
   "outputs": [],
   "source": [
    "# usar SMOTE para balancear las categorías, n_neighbors = 5\n",
    "smote = SMOTE(sampling_strategy='auto', k_neighbors=4, random_state=42)\n",
    "X_resampled, y_resampled = smote.fit_resample(X, y_binned)"
   ]
  },
  {
   "cell_type": "code",
   "execution_count": 25,
   "metadata": {},
   "outputs": [
    {
     "data": {
      "text/plain": [
       "suicides/100k pop\n",
       "1    26154\n",
       "2    26154\n",
       "3    26154\n",
       "4    26154\n",
       "5    26154\n",
       "Name: count, dtype: int64"
      ]
     },
     "execution_count": 25,
     "metadata": {},
     "output_type": "execute_result"
    }
   ],
   "source": [
    "# Crear un DataFrame con las características balanceadas\n",
    "data_resampled = pd.concat([X_resampled, y_resampled], axis=1)\n",
    "data_resampled['suicides/100k pop'].value_counts()"
   ]
  },
  {
   "cell_type": "markdown",
   "metadata": {},
   "source": [
    "Como se puede observar en la tabla anterior, ahora el dataset se encuentra balanceado, ya que se tiene la misma cantidad de datos para todas las clases. Esto se reflejará en el modelo de clasificación que se construirá, ya que no se sesgará hacia una clase en particular."
   ]
  },
  {
   "cell_type": "code",
   "execution_count": 26,
   "metadata": {},
   "outputs": [],
   "source": [
    "# Guardar los datos balanceados en un archivo CSV\n",
    "# data_resampled.to_csv('datosBalanceados.csv', index=False)"
   ]
  },
  {
   "cell_type": "markdown",
   "metadata": {},
   "source": [
    "# 3. Algoritmos de Machine Learning\n",
    "Utilice los algoritmos que determinó que serían los más útiles para aplicar a sus datos. Explique las transformaciones que tuvo que hacer para aplicarlos correctamente."
   ]
  },
  {
   "cell_type": "markdown",
   "metadata": {},
   "source": [
    "Se realizará de nuevo la carga de datos, esta vez, desde el csv con los datos preprocesados."
   ]
  },
  {
   "cell_type": "code",
   "execution_count": 27,
   "metadata": {},
   "outputs": [
    {
     "data": {
      "text/html": [
       "<div>\n",
       "<style scoped>\n",
       "    .dataframe tbody tr th:only-of-type {\n",
       "        vertical-align: middle;\n",
       "    }\n",
       "\n",
       "    .dataframe tbody tr th {\n",
       "        vertical-align: top;\n",
       "    }\n",
       "\n",
       "    .dataframe thead th {\n",
       "        text-align: right;\n",
       "    }\n",
       "</style>\n",
       "<table border=\"1\" class=\"dataframe\">\n",
       "  <thead>\n",
       "    <tr style=\"text-align: right;\">\n",
       "      <th></th>\n",
       "      <th>year</th>\n",
       "      <th>suicides_no</th>\n",
       "      <th>population</th>\n",
       "      <th>gdp_for_year</th>\n",
       "      <th>gdp_per_capita</th>\n",
       "      <th>age_15-24</th>\n",
       "      <th>age_25-34</th>\n",
       "      <th>age_35-54</th>\n",
       "      <th>age_5-14</th>\n",
       "      <th>age_55-74</th>\n",
       "      <th>...</th>\n",
       "      <th>country_Trinidad and Tobago</th>\n",
       "      <th>country_Turkey</th>\n",
       "      <th>country_Turkmenistan</th>\n",
       "      <th>country_Ukraine</th>\n",
       "      <th>country_United Arab Emirates</th>\n",
       "      <th>country_United Kingdom</th>\n",
       "      <th>country_United States</th>\n",
       "      <th>country_Uruguay</th>\n",
       "      <th>country_Uzbekistan</th>\n",
       "      <th>suicides/100k pop</th>\n",
       "    </tr>\n",
       "  </thead>\n",
       "  <tbody>\n",
       "    <tr>\n",
       "      <th>0</th>\n",
       "      <td>1987</td>\n",
       "      <td>21</td>\n",
       "      <td>312900</td>\n",
       "      <td>2.156625e+09</td>\n",
       "      <td>796.0</td>\n",
       "      <td>True</td>\n",
       "      <td>False</td>\n",
       "      <td>False</td>\n",
       "      <td>False</td>\n",
       "      <td>False</td>\n",
       "      <td>...</td>\n",
       "      <td>False</td>\n",
       "      <td>False</td>\n",
       "      <td>False</td>\n",
       "      <td>False</td>\n",
       "      <td>False</td>\n",
       "      <td>False</td>\n",
       "      <td>False</td>\n",
       "      <td>False</td>\n",
       "      <td>False</td>\n",
       "      <td>1</td>\n",
       "    </tr>\n",
       "    <tr>\n",
       "      <th>1</th>\n",
       "      <td>1987</td>\n",
       "      <td>16</td>\n",
       "      <td>308000</td>\n",
       "      <td>2.156625e+09</td>\n",
       "      <td>796.0</td>\n",
       "      <td>False</td>\n",
       "      <td>False</td>\n",
       "      <td>True</td>\n",
       "      <td>False</td>\n",
       "      <td>False</td>\n",
       "      <td>...</td>\n",
       "      <td>False</td>\n",
       "      <td>False</td>\n",
       "      <td>False</td>\n",
       "      <td>False</td>\n",
       "      <td>False</td>\n",
       "      <td>False</td>\n",
       "      <td>False</td>\n",
       "      <td>False</td>\n",
       "      <td>False</td>\n",
       "      <td>1</td>\n",
       "    </tr>\n",
       "    <tr>\n",
       "      <th>2</th>\n",
       "      <td>1987</td>\n",
       "      <td>14</td>\n",
       "      <td>289700</td>\n",
       "      <td>2.156625e+09</td>\n",
       "      <td>796.0</td>\n",
       "      <td>True</td>\n",
       "      <td>False</td>\n",
       "      <td>False</td>\n",
       "      <td>False</td>\n",
       "      <td>False</td>\n",
       "      <td>...</td>\n",
       "      <td>False</td>\n",
       "      <td>False</td>\n",
       "      <td>False</td>\n",
       "      <td>False</td>\n",
       "      <td>False</td>\n",
       "      <td>False</td>\n",
       "      <td>False</td>\n",
       "      <td>False</td>\n",
       "      <td>False</td>\n",
       "      <td>1</td>\n",
       "    </tr>\n",
       "    <tr>\n",
       "      <th>3</th>\n",
       "      <td>1987</td>\n",
       "      <td>1</td>\n",
       "      <td>21800</td>\n",
       "      <td>2.156625e+09</td>\n",
       "      <td>796.0</td>\n",
       "      <td>False</td>\n",
       "      <td>False</td>\n",
       "      <td>False</td>\n",
       "      <td>False</td>\n",
       "      <td>False</td>\n",
       "      <td>...</td>\n",
       "      <td>False</td>\n",
       "      <td>False</td>\n",
       "      <td>False</td>\n",
       "      <td>False</td>\n",
       "      <td>False</td>\n",
       "      <td>False</td>\n",
       "      <td>False</td>\n",
       "      <td>False</td>\n",
       "      <td>False</td>\n",
       "      <td>1</td>\n",
       "    </tr>\n",
       "    <tr>\n",
       "      <th>4</th>\n",
       "      <td>1987</td>\n",
       "      <td>9</td>\n",
       "      <td>274300</td>\n",
       "      <td>2.156625e+09</td>\n",
       "      <td>796.0</td>\n",
       "      <td>False</td>\n",
       "      <td>True</td>\n",
       "      <td>False</td>\n",
       "      <td>False</td>\n",
       "      <td>False</td>\n",
       "      <td>...</td>\n",
       "      <td>False</td>\n",
       "      <td>False</td>\n",
       "      <td>False</td>\n",
       "      <td>False</td>\n",
       "      <td>False</td>\n",
       "      <td>False</td>\n",
       "      <td>False</td>\n",
       "      <td>False</td>\n",
       "      <td>False</td>\n",
       "      <td>1</td>\n",
       "    </tr>\n",
       "  </tbody>\n",
       "</table>\n",
       "<p>5 rows × 120 columns</p>\n",
       "</div>"
      ],
      "text/plain": [
       "   year  suicides_no  population  gdp_for_year  gdp_per_capita  age_15-24  \\\n",
       "0  1987           21      312900  2.156625e+09           796.0       True   \n",
       "1  1987           16      308000  2.156625e+09           796.0      False   \n",
       "2  1987           14      289700  2.156625e+09           796.0       True   \n",
       "3  1987            1       21800  2.156625e+09           796.0      False   \n",
       "4  1987            9      274300  2.156625e+09           796.0      False   \n",
       "\n",
       "   age_25-34  age_35-54  age_5-14  age_55-74  ...  \\\n",
       "0      False      False     False      False  ...   \n",
       "1      False       True     False      False  ...   \n",
       "2      False      False     False      False  ...   \n",
       "3      False      False     False      False  ...   \n",
       "4       True      False     False      False  ...   \n",
       "\n",
       "   country_Trinidad and Tobago  country_Turkey  country_Turkmenistan  \\\n",
       "0                        False           False                 False   \n",
       "1                        False           False                 False   \n",
       "2                        False           False                 False   \n",
       "3                        False           False                 False   \n",
       "4                        False           False                 False   \n",
       "\n",
       "   country_Ukraine  country_United Arab Emirates  country_United Kingdom  \\\n",
       "0            False                         False                   False   \n",
       "1            False                         False                   False   \n",
       "2            False                         False                   False   \n",
       "3            False                         False                   False   \n",
       "4            False                         False                   False   \n",
       "\n",
       "   country_United States  country_Uruguay  country_Uzbekistan  \\\n",
       "0                  False            False               False   \n",
       "1                  False            False               False   \n",
       "2                  False            False               False   \n",
       "3                  False            False               False   \n",
       "4                  False            False               False   \n",
       "\n",
       "   suicides/100k pop  \n",
       "0                  1  \n",
       "1                  1  \n",
       "2                  1  \n",
       "3                  1  \n",
       "4                  1  \n",
       "\n",
       "[5 rows x 120 columns]"
      ]
     },
     "execution_count": 27,
     "metadata": {},
     "output_type": "execute_result"
    }
   ],
   "source": [
    "df = pd.read_csv('datosBalanceados.csv')\n",
    "df.head()"
   ]
  },
  {
   "cell_type": "code",
   "execution_count": 28,
   "metadata": {},
   "outputs": [],
   "source": [
    "y = df[\"suicides/100k pop\"]\n",
    "X = df.drop([\"suicides/100k pop\"], axis=1)"
   ]
  },
  {
   "cell_type": "code",
   "execution_count": 29,
   "metadata": {},
   "outputs": [
    {
     "name": "stdout",
     "output_type": "stream",
     "text": [
      "        year  suicides_no  population  gdp_for_year  gdp_per_capita  \\\n",
      "90653   2009         1012      634006  1.177719e+12    24796.651776   \n",
      "807     2003          456     2845955  1.275870e+11     3668.000000   \n",
      "92706   1996          273      174461  8.150852e+10     9819.336675   \n",
      "66676   1989           40       39328  3.042379e+10    12179.489296   \n",
      "50434   2005           26       50862  1.692250e+10     7916.000000   \n",
      "...      ...          ...         ...           ...             ...   \n",
      "128106  2011            9        5247  4.899197e+09    10397.511518   \n",
      "103694  1999          275      188382  4.749694e+10     4984.132173   \n",
      "860     2007          155     4601874  2.875305e+11     7918.000000   \n",
      "15795   2010            0       30688  2.588176e+09     7806.000000   \n",
      "121958  2009          909      498643  8.636103e+11    20765.943815   \n",
      "\n",
      "        age_15-24  age_25-34  age_35-54  age_5-14  age_55-74  ...  \\\n",
      "90653       False      False      False     False      False  ...   \n",
      "807         False       True      False     False      False  ...   \n",
      "92706       False      False      False     False      False  ...   \n",
      "66676       False      False      False     False      False  ...   \n",
      "50434       False      False      False     False       True  ...   \n",
      "...           ...        ...        ...       ...        ...  ...   \n",
      "128106      False      False      False     False      False  ...   \n",
      "103694      False      False      False     False      False  ...   \n",
      "860         False      False       True     False      False  ...   \n",
      "15795       False      False      False      True      False  ...   \n",
      "121958      False      False      False     False      False  ...   \n",
      "\n",
      "        country_Thailand  country_Trinidad and Tobago  country_Turkey  \\\n",
      "90653              False                        False           False   \n",
      "807                False                        False           False   \n",
      "92706              False                        False           False   \n",
      "66676              False                        False           False   \n",
      "50434              False                        False           False   \n",
      "...                  ...                          ...             ...   \n",
      "128106             False                        False           False   \n",
      "103694             False                        False           False   \n",
      "860                False                        False           False   \n",
      "15795              False                        False           False   \n",
      "121958             False                        False           False   \n",
      "\n",
      "        country_Turkmenistan  country_Ukraine  country_United Arab Emirates  \\\n",
      "90653                  False            False                         False   \n",
      "807                    False            False                         False   \n",
      "92706                  False            False                         False   \n",
      "66676                  False            False                         False   \n",
      "50434                  False            False                         False   \n",
      "...                      ...              ...                           ...   \n",
      "128106                 False            False                         False   \n",
      "103694                 False            False                         False   \n",
      "860                    False            False                         False   \n",
      "15795                  False            False                         False   \n",
      "121958                 False            False                         False   \n",
      "\n",
      "        country_United Kingdom  country_United States  country_Uruguay  \\\n",
      "90653                    False                  False            False   \n",
      "807                      False                  False            False   \n",
      "92706                    False                  False            False   \n",
      "66676                    False                  False            False   \n",
      "50434                    False                  False            False   \n",
      "...                        ...                    ...              ...   \n",
      "128106                   False                  False            False   \n",
      "103694                   False                  False            False   \n",
      "860                      False                  False            False   \n",
      "15795                    False                  False            False   \n",
      "121958                   False                  False            False   \n",
      "\n",
      "        country_Uzbekistan  \n",
      "90653                False  \n",
      "807                  False  \n",
      "92706                False  \n",
      "66676                False  \n",
      "50434                False  \n",
      "...                    ...  \n",
      "128106               False  \n",
      "103694               False  \n",
      "860                  False  \n",
      "15795                False  \n",
      "121958               False  \n",
      "\n",
      "[91539 rows x 119 columns]\n",
      "        year  suicides_no  population  gdp_for_year  gdp_per_capita  \\\n",
      "30576   2008          224      420571  1.334416e+11     9387.000000   \n",
      "3600    1998          136      636467  2.606019e+11    27087.000000   \n",
      "75328   2012          230      234451  1.269207e+11    13442.643029   \n",
      "110129  2008          514      277354  4.840828e+11    17554.325157   \n",
      "27327   1995            0      268243  1.929766e+10     6555.000000   \n",
      "...      ...          ...         ...           ...             ...   \n",
      "39754   2009          882     1359278  1.201119e+12    24959.879483   \n",
      "65221   1996          294      297319  5.970045e+09     2526.000000   \n",
      "58129   1995          190      165985  1.010129e+10     1268.848831   \n",
      "17294   2004           83      366987  6.505327e+11    42614.000000   \n",
      "77459   1998           93       91654  4.320115e+09     4173.146706   \n",
      "\n",
      "        age_15-24  age_25-34  age_35-54  age_5-14  age_55-74  ...  \\\n",
      "30576       False      False      False     False       True  ...   \n",
      "3600         True      False      False     False      False  ...   \n",
      "75328       False      False      False     False      False  ...   \n",
      "110129      False      False      False     False      False  ...   \n",
      "27327       False      False      False      True      False  ...   \n",
      "...           ...        ...        ...       ...        ...  ...   \n",
      "39754       False      False      False     False      False  ...   \n",
      "65221       False      False       True     False       True  ...   \n",
      "58129       False      False      False     False      False  ...   \n",
      "17294       False      False      False     False      False  ...   \n",
      "77459       False      False      False     False       True  ...   \n",
      "\n",
      "        country_Thailand  country_Trinidad and Tobago  country_Turkey  \\\n",
      "30576              False                        False           False   \n",
      "3600               False                        False           False   \n",
      "75328              False                        False           False   \n",
      "110129             False                        False           False   \n",
      "27327              False                        False           False   \n",
      "...                  ...                          ...             ...   \n",
      "39754              False                        False           False   \n",
      "65221              False                        False           False   \n",
      "58129              False                        False           False   \n",
      "17294              False                        False           False   \n",
      "77459              False                        False           False   \n",
      "\n",
      "        country_Turkmenistan  country_Ukraine  country_United Arab Emirates  \\\n",
      "30576                  False            False                         False   \n",
      "3600                   False            False                         False   \n",
      "75328                  False            False                         False   \n",
      "110129                 False            False                         False   \n",
      "27327                  False            False                         False   \n",
      "...                      ...              ...                           ...   \n",
      "39754                  False            False                         False   \n",
      "65221                  False            False                         False   \n",
      "58129                  False            False                         False   \n",
      "17294                  False            False                         False   \n",
      "77459                  False            False                         False   \n",
      "\n",
      "        country_United Kingdom  country_United States  country_Uruguay  \\\n",
      "30576                    False                  False            False   \n",
      "3600                     False                  False            False   \n",
      "75328                    False                  False            False   \n",
      "110129                   False                  False            False   \n",
      "27327                    False                  False             True   \n",
      "...                        ...                    ...              ...   \n",
      "39754                    False                  False            False   \n",
      "65221                    False                  False            False   \n",
      "58129                    False                  False            False   \n",
      "17294                    False                  False            False   \n",
      "77459                    False                  False            False   \n",
      "\n",
      "        country_Uzbekistan  \n",
      "30576                False  \n",
      "3600                 False  \n",
      "75328                False  \n",
      "110129               False  \n",
      "27327                False  \n",
      "...                    ...  \n",
      "39754                False  \n",
      "65221                False  \n",
      "58129                False  \n",
      "17294                False  \n",
      "77459                False  \n",
      "\n",
      "[39231 rows x 119 columns]\n"
     ]
    }
   ],
   "source": [
    "# separar en train y test\n",
    "from sklearn.model_selection import train_test_split\n",
    "X_train, X_test, y_train, y_test = train_test_split(X, y, test_size=0.3, random_state=42)\n",
    "print(X_train)\n",
    "print(X_test)"
   ]
  },
  {
   "cell_type": "markdown",
   "metadata": {},
   "source": [
    "## 3.1 Regresión Logística"
   ]
  },
  {
   "cell_type": "markdown",
   "metadata": {},
   "source": [
    "La primera fase para la implementación de la regresión logística es la carga de datos, seguido de la división de los datos en entrenamiento y prueba. Luego, se procede a la normalización de los datos y la implementación del modelo. \n",
    "\n",
    "La normalización es un paso importante para la regresión logística, ya que esta técnica es sensible a la escala de los datos. Por lo que, se procede a normalizar los datos de entrenamiento y prueba."
   ]
  },
  {
   "cell_type": "code",
   "execution_count": 30,
   "metadata": {},
   "outputs": [
    {
     "name": "stdout",
     "output_type": "stream",
     "text": [
      "[[ 1.08608079  0.14691811 -0.16469287 ... -0.07448072 -0.13329367\n",
      "  -0.04463389]\n",
      " [ 0.2695891  -0.13679586  0.60107625 ... -0.07448072 -0.13329367\n",
      "  -0.04463389]\n",
      " [-0.68298453 -0.23017654 -0.32378576 ... -0.07448072 -0.13329367\n",
      "  -0.04463389]\n",
      " ...\n",
      " [ 0.8139169  -0.29038921  1.20896936 ... -0.07448072 -0.13329367\n",
      "  -0.04463389]\n",
      " [ 1.22216274 -0.36948214 -0.37355948 ... -0.07448072 -0.13329367\n",
      "  -0.04463389]\n",
      " [ 1.08608079  0.09435959 -0.21155507 ... -0.07448072 -0.13329367\n",
      "  -0.04463389]]\n",
      "[[ 0.94999884 -0.25518011 -0.23858333 ... -0.07448072 -0.13329367\n",
      "  -0.04463389]\n",
      " [-0.41082064 -0.30008448 -0.16384088 ... -0.07448072 -0.13329367\n",
      "  -0.04463389]\n",
      " [ 1.49432664 -0.25211844 -0.30301743 ... -0.07448072 -0.13329367\n",
      "  -0.04463389]\n",
      " ...\n",
      " [-0.81906648 -0.27252952 -0.32672012 ... -0.07448072 -0.13329367\n",
      "  -0.04463389]\n",
      " [ 0.40567105 -0.32712915 -0.25713392 ... -0.07448072 -0.13329367\n",
      "  -0.04463389]\n",
      " [-0.41082064 -0.32202638 -0.35245326 ... -0.07448072 -0.13329367\n",
      "  -0.04463389]]\n"
     ]
    }
   ],
   "source": [
    "# normalización de los datos\n",
    "from sklearn.preprocessing import StandardScaler\n",
    "scaler = StandardScaler()\n",
    "\n",
    "X_train = scaler.fit_transform(X_train)\n",
    "X_test = scaler.transform(X_test)\n",
    "\n",
    "print(X_train)\n",
    "print(X_test)"
   ]
  },
  {
   "cell_type": "markdown",
   "metadata": {},
   "source": [
    "Una vez habiendo normalizado los datos, se procede a la implementación del modelo de regresión logística. Se ajusta el modelo a los datos de entrenamiento y se evalúa el modelo con los datos de prueba."
   ]
  },
  {
   "cell_type": "code",
   "execution_count": 34,
   "metadata": {},
   "outputs": [
    {
     "name": "stdout",
     "output_type": "stream",
     "text": [
      "El accuracy del modelo es: 0.9594708266421962\n"
     ]
    }
   ],
   "source": [
    "from sklearn.linear_model import LogisticRegression\n",
    "\n",
    "# Instanciando el modelo con n_jobs=-1\n",
    "logisticRegr = LogisticRegression(n_jobs=-1)\n",
    "\n",
    "logisticRegr.fit(X_train, y_train)\n",
    "score = logisticRegr.score(X_test, y_test)\n",
    "print(f\"El accuracy del modelo es: {score}\")"
   ]
  },
  {
   "cell_type": "code",
   "execution_count": 32,
   "metadata": {},
   "outputs": [
    {
     "name": "stdout",
     "output_type": "stream",
     "text": [
      "0.9594708266421962\n"
     ]
    },
    {
     "data": {
      "text/plain": [
       "<sklearn.metrics._plot.confusion_matrix.ConfusionMatrixDisplay at 0x177b7e2e5a0>"
      ]
     },
     "execution_count": 32,
     "metadata": {},
     "output_type": "execute_result"
    },
    {
     "data": {
      "image/png": "[encoded data removed]",
      "text/plain": [
       "<Figure size 1000x500 with 2 Axes>"
      ]
     },
     "metadata": {},
     "output_type": "display_data"
    }
   ],
   "source": [
    "# graficar la matriz de confusión\n",
    "from sklearn.metrics import ConfusionMatrixDisplay, confusion_matrix, accuracy_score\n",
    "\n",
    "conf = confusion_matrix(y_test, logisticRegr.predict(X_test))\n",
    "accuracy = accuracy_score(y_test, logisticRegr.predict(X_test))\n",
    "print(accuracy)\n",
    "\n",
    "disp = ConfusionMatrixDisplay(confusion_matrix=conf, display_labels=logisticRegr.classes_)\n",
    "fig, ax = plt.subplots(figsize=(10, 5))  # Ajusta el tamaño según tus necesidades\n",
    "disp.plot(ax=ax)"
   ]
  },
  {
   "cell_type": "code",
   "execution_count": 33,
   "metadata": {},
   "outputs": [
    {
     "name": "stdout",
     "output_type": "stream",
     "text": [
      "              precision    recall  f1-score   support\n",
      "\n",
      "           1       0.98      0.99      0.98      7786\n",
      "           2       0.96      0.89      0.92      7992\n",
      "           3       0.91      0.93      0.92      7930\n",
      "           4       0.96      0.99      0.97      7737\n",
      "           5       1.00      1.00      1.00      7786\n",
      "\n",
      "    accuracy                           0.96     39231\n",
      "   macro avg       0.96      0.96      0.96     39231\n",
      "weighted avg       0.96      0.96      0.96     39231\n",
      "\n"
     ]
    }
   ],
   "source": [
    "from sklearn.metrics import classification_report\n",
    "print(classification_report(y_test, logisticRegr.predict(X_test)))"
   ]
  },
  {
   "cell_type": "markdown",
   "metadata": {},
   "source": [
    "# 4. Creación de varios modelos y selección del mejor\n",
    "\n",
    "Cree varios modelos, (al menos 3 con cada algoritmo) con los algoritmos seleccionados. Varíe los parámetros buscando el mejor modelo sin caer en un modelo desajustado o sobreajustado. Construya un modelo final con los mejores parámetros. Explique con datos como llegó a ellos."
   ]
  },
  {
   "cell_type": "markdown",
   "metadata": {},
   "source": [
    "## 4.1 Regresión Logística\n",
    "La primera iteración del entrenamiento del modelo de regresión logística arrojó un accuracy de 0.95. Esto es un excelente resultado. Sin embargo, es posible que aun se pueda mejorar. Para esto, se realizará una busqueda de hiperparámetros con GridSearchCV.\n",
    "\n",
    "Habiendo encontrado los mejores hiperparámetros, se reentrenerá el modelo con estos y se evaluará nuevamente."
   ]
  },
  {
   "cell_type": "code",
   "execution_count": 39,
   "metadata": {},
   "outputs": [
    {
     "name": "stdout",
     "output_type": "stream",
     "text": [
      "{'C': 100, 'max_iter': 100, 'penalty': 'l2', 'solver': 'lbfgs'}\n",
      "0.9679080319135378\n"
     ]
    }
   ],
   "source": [
    "# Mejorar el modelo con GridSearchCV\n",
    "from sklearn.model_selection import GridSearchCV\n",
    "\n",
    "# Definir los parámetros que quieres ajustar\n",
    "param_grid = {\n",
    "    'penalty': ['l1', 'l2', 'none'],\n",
    "    'C': [0.01, 0.1, 1, 10, 100],\n",
    "    'solver': ['lbfgs', 'saga'], \n",
    "    'max_iter': [100]\n",
    "}\n",
    "\n",
    "# Crear el objeto GridSearchCV\n",
    "grid_search = GridSearchCV(LogisticRegression(), param_grid, cv=5, n_jobs=-1)\n",
    "\n",
    "# Ajustar el modelo a los datos\n",
    "grid_search.fit(X_train, y_train)\n",
    "\n",
    "# Imprimir los mejores parámetros encontrados\n",
    "print(grid_search.best_params_)\n",
    "\n",
    "# Usar el mejor modelo para predecir\n",
    "best_model = grid_search.best_estimator_\n",
    "score = best_model.score(X_test, y_test)\n",
    "print(score)"
   ]
  },
  {
   "cell_type": "markdown",
   "metadata": {},
   "source": [
    "Después del entrenamiento de multiples modelos con diferentes hiperparámetros y de realizar validación cruzada, se encontró que los mejores parámetros son los siguientes: \n",
    "- 'C': 100\n",
    "- 'max_iter': 100\n",
    "- 'penalty': 'l2'\n",
    "- 'solver': 'lbfgs'\n",
    "\n",
    "Teniendo un accuracy de 0.97, se puede concluir que el modelo de regresión logística es un buen modelo para predecir la probabilidad de suicidio."
   ]
  },
  {
   "cell_type": "code",
   "execution_count": 41,
   "metadata": {},
   "outputs": [
    {
     "name": "stdout",
     "output_type": "stream",
     "text": [
      "El accuracy del modelo es: 0.9679080319135378\n"
     ]
    },
    {
     "data": {
      "text/plain": [
       "<sklearn.metrics._plot.confusion_matrix.ConfusionMatrixDisplay at 0x177b7c3ff80>"
      ]
     },
     "execution_count": 41,
     "metadata": {},
     "output_type": "execute_result"
    },
    {
     "data": {
      "image/png": "[encoded data removed]",
      "text/plain": [
       "<Figure size 1000x500 with 2 Axes>"
      ]
     },
     "metadata": {},
     "output_type": "display_data"
    }
   ],
   "source": [
    "conf = confusion_matrix(y_test, best_model.predict(X_test))\n",
    "accuracy = accuracy_score(y_test, best_model.predict(X_test))\n",
    "\n",
    "print(f\"El accuracy del modelo es: {accuracy}\")\n",
    "\n",
    "disp = ConfusionMatrixDisplay(confusion_matrix=conf, display_labels=best_model.classes_)\n",
    "fig, ax = plt.subplots(figsize=(10, 5))  # Ajusta el tamaño según tus necesidades\n",
    "disp.plot(ax=ax)"
   ]
  },
  {
   "cell_type": "code",
   "execution_count": 42,
   "metadata": {},
   "outputs": [
    {
     "name": "stdout",
     "output_type": "stream",
     "text": [
      "              precision    recall  f1-score   support\n",
      "\n",
      "           1       0.98      0.99      0.98      7786\n",
      "           2       0.98      0.92      0.95      7992\n",
      "           3       0.92      0.96      0.94      7930\n",
      "           4       0.96      0.98      0.97      7737\n",
      "           5       1.00      1.00      1.00      7786\n",
      "\n",
      "    accuracy                           0.97     39231\n",
      "   macro avg       0.97      0.97      0.97     39231\n",
      "weighted avg       0.97      0.97      0.97     39231\n",
      "\n"
     ]
    }
   ],
   "source": [
    "print(classification_report(y_test, best_model.predict(X_test)))"
   ]
  }
 ],
 "metadata": {
  "kernelspec": {
   "display_name": "Python 3",
   "language": "python",
   "name": "python3"
  },
  "language_info": {
   "codemirror_mode": {
    "name": "ipython",
    "version": 3
   },
   "file_extension": ".py",
   "mimetype": "text/x-python",
   "name": "python",
   "nbconvert_exporter": "python",
   "pygments_lexer": "ipython3",
   "version": "3.12.3"
  }
 },
 "nbformat": 4,
 "nbformat_minor": 2
}
